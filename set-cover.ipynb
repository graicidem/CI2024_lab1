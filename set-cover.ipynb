{
 "cells": [
  {
   "cell_type": "markdown",
   "metadata": {},
   "source": [
    "Copyright **`(c)`** 2024 Giovanni Squillero `<giovanni.squillero@polito.it>`  \n",
    "[`https://github.com/squillero/computational-intelligence`](https://github.com/squillero/computational-intelligence)  \n",
    "Free for personal or classroom use; see [`LICENSE.md`](https://github.com/squillero/computational-intelligence/blob/master/LICENSE.md) for details.  "
   ]
  },
  {
   "cell_type": "markdown",
   "metadata": {},
   "source": [
    "# Set Cover problem\n",
    "\n",
    "See: https://en.wikipedia.org/wiki/Set_cover_problem"
   ]
  },
  {
   "cell_type": "code",
   "execution_count": 683,
   "metadata": {},
   "outputs": [],
   "source": [
    "from random import random, seed\n",
    "from itertools import product, accumulate\n",
    "import numpy as np\n",
    "from matplotlib import pyplot as plt\n",
    "from icecream import ic"
   ]
  },
  {
   "cell_type": "markdown",
   "metadata": {},
   "source": [
    "## Reproducible Initialization\n",
    "\n",
    "If you want to get reproducible results, use `rng` (and restart the kernel); for non-reproducible ones, use `np.random`."
   ]
  },
  {
   "cell_type": "code",
   "execution_count": 684,
   "metadata": {},
   "outputs": [],
   "source": [
    "UNIVERSE_SIZE = 100\n",
    "NUM_SETS = 10\n",
    "DENSITY = 0.2\n",
    "\n",
    "rng = np.random.Generator(np.random.PCG64([UNIVERSE_SIZE, NUM_SETS, int(10_000 * DENSITY)]))"
   ]
  },
  {
   "cell_type": "code",
   "execution_count": 685,
   "metadata": {},
   "outputs": [],
   "source": [
    "# DON'T EDIT THESE LINES!\n",
    "\n",
    "SETS = np.random.random((NUM_SETS, UNIVERSE_SIZE)) < DENSITY\n",
    "for s in range(UNIVERSE_SIZE):\n",
    "    if not np.any(SETS[:, s]):\n",
    "        SETS[np.random.randint(NUM_SETS), s] = True\n",
    "COSTS = np.pow(SETS.sum(axis=1), 1.1)"
   ]
  },
  {
   "cell_type": "markdown",
   "metadata": {},
   "source": [
    "## Helper Functions"
   ]
  },
  {
   "cell_type": "code",
   "execution_count": 686,
   "metadata": {},
   "outputs": [],
   "source": [
    "def valid(solution):\n",
    "    \"\"\"Checks wether solution is valid (ie. covers all universe)\"\"\"\n",
    "    phenotype=np.logical_or.reduce(SETS[solution])\n",
    "    return np.all(phenotype)\n",
    "\n",
    "\n",
    "def cost(solution):\n",
    "    \"\"\"Returns the cost of a solution (to be minimized)\"\"\"\n",
    "    return COSTS[solution].sum()"
   ]
  },
  {
   "cell_type": "markdown",
   "metadata": {},
   "source": [
    "## Have Fun!"
   ]
  },
  {
   "cell_type": "code",
   "execution_count": 687,
   "metadata": {},
   "outputs": [
    {
     "name": "stderr",
     "output_type": "stream",
     "text": [
      "ic| valid(solution): np.True_\n",
      "    cost(solution): np.float64(841054570.6280632)\n"
     ]
    }
   ],
   "source": [
    "# A dumb solution of \"all\" sets\n",
    "solution = np.full(NUM_SETS, True)\n",
    "ic(valid(solution), cost(solution))\n",
    "None"
   ]
  },
  {
   "cell_type": "code",
   "execution_count": 688,
   "metadata": {},
   "outputs": [
    {
     "name": "stderr",
     "output_type": "stream",
     "text": [
      "ic| valid(solution): np.True_\n",
      "    cost(solution): np.float64(423493737.98284304)\n"
     ]
    }
   ],
   "source": [
    "# A random solution with random 50% of the sets\n",
    "solution = rng.random(NUM_SETS) < .5\n",
    "ic(valid(solution), cost(solution))\n",
    "None"
   ]
  },
  {
   "cell_type": "code",
   "execution_count": 689,
   "metadata": {},
   "outputs": [],
   "source": [
    "def fitness(solution: np.ndarray) :\n",
    "    # i'm trying to minimize cost\n",
    "    # check if it is valid\n",
    "    # when you are in valid you should never go into invalid\n",
    "    return (valid(solution), -cost(solution))\n",
    "\n",
    "def fitness2(solution: np.ndarray):\n",
    "    is_valid = valid(solution)\n",
    "    solution_cost = cost(solution)\n",
    "\n",
    "    # Heavily penalize invalid solutions\n",
    "    if not is_valid:\n",
    "        penalty = 1e6  # A very large value to make invalid solutions uncompetitive\n",
    "        return (valid(solution), -(solution_cost + penalty))  \n",
    "    else:\n",
    "        return (valid(solution), -solution_cost)\n",
    "    \n",
    "def fitness3(solution: np.ndarray):\n",
    "    is_valid = valid(solution)\n",
    "    solution_cost = cost(solution)\n",
    "\n",
    "    # the penalty is proportional to the number of elements not covered, \n",
    "    # thus improving the sensitivity of the fitness function with respect to the validity of the solution.\n",
    "    uncovered_elements = np.sum(np.logical_not(np.any(SETS[solution], axis=0)))\n",
    "    if not is_valid:\n",
    "        penalty = 1e4 * uncovered_elements  # Dynamic penalty based on uncovered elements\n",
    "        return (False, -(solution_cost + penalty))\n",
    "    else:\n",
    "        return (True, -solution_cost)\n"
   ]
  },
  {
   "cell_type": "markdown",
   "metadata": {},
   "source": [
    "## Improved RHMC"
   ]
  },
  {
   "cell_type": "code",
   "execution_count": 690,
   "metadata": {},
   "outputs": [],
   "source": [
    "def multiple_mutationRHMC(solution: np.ndarray, strength: float=0.3) -> np.ndarray:\n",
    "    # before we try to do exploitation (big steps)    \n",
    "    mask=rng.random(NUM_SETS)<strength\n",
    "    if not np.any(mask):\n",
    "        mask[rng.integers(NUM_SETS)]=True\n",
    "    new_sol=np.logical_xor(solution, mask)\n",
    "    return new_sol"
   ]
  },
  {
   "cell_type": "code",
   "execution_count": 691,
   "metadata": {},
   "outputs": [],
   "source": [
    "BUFFER_SIZE=50\n",
    "\n",
    "def RHMC(initial_solution, max_steps):\n",
    "    solution = initial_solution\n",
    "    solution_fitness=fitness3(solution)\n",
    "    history=[float(solution_fitness[1])]\n",
    "    ic(fitness3(solution))\n",
    "\n",
    "    strength=0.5\n",
    "    buffer=list()\n",
    "    tabu_list = []  # Tabu list for Tabu Search\n",
    "\n",
    "    for steps in range(max_steps):\n",
    "        #SELF-ADAPTIVE\n",
    "        new_solution = None\n",
    "        while new_solution is None or  any(np.array_equal(new_solution, t) for t in tabu_list):\n",
    "            new_solution=multiple_mutationRHMC(solution, float(strength))\n",
    "        \n",
    "        f=fitness3(new_solution)\n",
    "        history.append(float(f[1]))\n",
    "        \n",
    "        buffer.append(f>solution_fitness)\n",
    "        buffer=buffer[-BUFFER_SIZE:]\n",
    "        if sum (buffer) > 10:\n",
    "            strength *= 1.1\n",
    "        elif sum (buffer) < 10:\n",
    "            strength /= 1.1\n",
    "\n",
    "        # Update the solution if it improves\n",
    "        if f>solution_fitness:\n",
    "            solution=new_solution\n",
    "            best_step=steps\n",
    "            solution_fitness=fitness3(solution)\n",
    "            tabu_list.append(solution)\n",
    "            if len(tabu_list) > 100:\n",
    "                tabu_list.pop(0)\n",
    "\n",
    "    #ic(solution)  \n",
    "    ic(fitness3(solution))\n",
    "    print(\"Result obtained during the iteration:\", best_step)\n",
    "\n",
    "\n",
    "    plt.figure(figsize=(14, 8))\n",
    "    plt.plot(\n",
    "        range(len(history)),\n",
    "        list(accumulate(history, max)),\n",
    "        color=\"red\",\n",
    "    )\n",
    "    _ = plt.scatter(range(len(history)), history, marker=\".\")\n",
    "    # after some time i remove all member so set cost will be 0\n"
   ]
  },
  {
   "cell_type": "markdown",
   "metadata": {},
   "source": [
    "## Simulated Annealing"
   ]
  },
  {
   "cell_type": "code",
   "execution_count": 692,
   "metadata": {},
   "outputs": [],
   "source": [
    "def single_mutation(solution: np.ndarray) -> np.ndarray:\n",
    "    new_sol=solution.copy()\n",
    "    #select one bit and then change it\n",
    "    i=rng.integers(0, NUM_SETS)\n",
    "    new_sol[i]= not new_sol[i]\n",
    "    return new_sol\n",
    "\n",
    "def multiple_mutation(solution: np.ndarray) -> np.ndarray:\n",
    "    new_sol=solution.copy()\n",
    "    \n",
    "    mask=rng.random( NUM_SETS)<0.01\n",
    "    new_sol=np.logical_xor(solution, mask)\n",
    "    return new_sol\n",
    "\n",
    "def multiple_mutation2(solution: np.ndarray, step: int, max_steps: int) -> np.ndarray:\n",
    "    new_sol = solution.copy()\n",
    "    \n",
    "    # Adaptive mutation rate based on progress\n",
    "    mutation_rate = 0.01 + (0.05 * (step / max_steps))  # Increase mutation rate over time\n",
    "    mask = rng.random(NUM_SETS) < mutation_rate\n",
    "    \n",
    "    new_sol = np.logical_xor(solution, mask)\n",
    "    return new_sol"
   ]
  },
  {
   "cell_type": "code",
   "execution_count": 693,
   "metadata": {},
   "outputs": [],
   "source": [
    "def greedy_initial_solution() -> np.ndarray:\n",
    "    uncovered = np.ones(UNIVERSE_SIZE, dtype=bool)  # Start with all elements uncovered\n",
    "    solution = np.zeros(NUM_SETS, dtype=bool)\n",
    "    \n",
    "    while np.any(uncovered):\n",
    "        # Coverage ratio: number of uncovered elements per set cost\n",
    "        coverage = SETS & uncovered # calculates which elements not yet covered are covered by each set. \n",
    "        # calculate the number of discovered elements covered by the set, divided by the cost of the set\n",
    "        set_scores = coverage.sum(axis=1) / COSTS  # Efficiency: how many uncovered items you can cover per unit of cost \n",
    "        best_set = np.argmax(set_scores) # select the set that offers the best coverage at the lowest cost\n",
    "        \n",
    "        # Add the selected set to the solution\n",
    "        solution[best_set] = True\n",
    "        # Mark the elements covered by the selected set as covered\n",
    "        uncovered &= ~SETS[best_set]\n",
    "    \n",
    "    return solution"
   ]
  },
  {
   "cell_type": "code",
   "execution_count": 694,
   "metadata": {},
   "outputs": [],
   "source": [
    "def simulated_annealing(initial_solution, max_steps):\n",
    "    solution = initial_solution\n",
    "    solution_fitness = fitness3(solution)\n",
    "\n",
    "    temperature = 10000\n",
    "    best_solution = solution\n",
    "    best_fitness = solution_fitness\n",
    "    print(\"Initial fitness:\", best_fitness)\n",
    "    best_step=0\n",
    "    best_cost=-float(solution_fitness[1])\n",
    "    history = [float(solution_fitness[1])]\n",
    "\n",
    "    # random restart\n",
    "    no_improvement_steps = 0\n",
    "    max_no_improvement = 500  # Max steps without improvement\n",
    "\n",
    "    for step in range(max_steps):\n",
    "        # Generate a new solution by mutation\n",
    "        new_solution = multiple_mutation(solution)\n",
    "        new_fitness = fitness3(new_solution)\n",
    "        \n",
    "        # Calculate the fitness difference\n",
    "        delta_fitness = float(new_fitness[1]) - float(solution_fitness[1])\n",
    "        \n",
    "        # Accept the new solution if better or with a certain probability\n",
    "        if delta_fitness > 0 or np.random.random() < np.exp(delta_fitness / temperature):\n",
    "            solution = new_solution\n",
    "            solution_fitness = new_fitness\n",
    "            no_improvement_steps = 0 #reset counter\n",
    "            \n",
    "            # Update the best solution found\n",
    "            if solution_fitness[1] > best_fitness[1]:\n",
    "                best_solution = solution\n",
    "                best_fitness = solution_fitness\n",
    "                best_step=step\n",
    "                best_cost=-float(solution_fitness[1])\n",
    "\n",
    "        else:\n",
    "            no_improvement_steps += 1\n",
    "\n",
    "        if no_improvement_steps > max_no_improvement:\n",
    "            print(\"Restarting from a new random solution...\")\n",
    "            solution = greedy_initial_solution()\n",
    "            solution_fitness = fitness3(solution)\n",
    "            no_improvement_steps = 0\n",
    "\n",
    "        # Reduce the temperature\n",
    "        if delta_fitness > 0:\n",
    "            temperature *= 0.9  # Cool quickly if there is improvement\n",
    "        else:\n",
    "            temperature *= 0.99\n",
    "        \n",
    "        history.append(float(solution_fitness[1]))\n",
    "\n",
    "    print(\"Best solution found:\", best_solution)\n",
    "    print(\"Best fitness:\", best_fitness)\n",
    "    print(\"Result obtained during the iteration:\", best_step)\n",
    "    print(\"Best cost: \", best_cost)\n",
    "\n",
    "    plt.figure(figsize=(14, 8))\n",
    "    plt.plot(range(len(history)), list(accumulate(history, max)), color=\"red\")\n",
    "    plt.scatter(range(len(history)), history, marker=\".\")\n",
    "    plt.show()"
   ]
  },
  {
   "cell_type": "code",
   "execution_count": 695,
   "metadata": {},
   "outputs": [
    {
     "name": "stderr",
     "output_type": "stream",
     "text": [
      "ic| fitness3(solution): (True, np.float64(-252222982.64022866))\n",
      "ic| fitness3(solution): (True, np.float64(-236477054.27639562))\n"
     ]
    },
    {
     "name": "stdout",
     "output_type": "stream",
     "text": [
      "Result obtained during the iteration: 988\n"
     ]
    },
    {
     "data": {
      "image/png": "[encoded data removed]",
      "text/plain": [
       "<Figure size 1400x800 with 1 Axes>"
      ]
     },
     "metadata": {},
     "output_type": "display_data"
    }
   ],
   "source": [
    "solution=rng.random(NUM_SETS) < .3\n",
    "max_steps=1000\n",
    "\n",
    "if (UNIVERSE_SIZE>1000):\n",
    "    if(UNIVERSE_SIZE<100_000):\n",
    "        max_steps=10_000\n",
    "    RHMC(solution, max_steps)\n",
    "else:\n",
    "    simulated_annealing(solution, max_steps)"
   ]
  }
 ],
 "metadata": {
  "kernelspec": {
   "display_name": "ci",
   "language": "python",
   "name": "python3"
  },
  "language_info": {
   "codemirror_mode": {
    "name": "ipython",
    "version": 3
   },
   "file_extension": ".py",
   "mimetype": "text/x-python",
   "name": "python",
   "nbconvert_exporter": "python",
   "pygments_lexer": "ipython3",
   "version": "3.10.11"
  }
 },
 "nbformat": 4,
 "nbformat_minor": 4
}
